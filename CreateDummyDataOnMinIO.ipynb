{
 "cells": [
  {
   "cell_type": "markdown",
   "id": "491507b2-c95e-493b-8f56-c905d0ef0b28",
   "metadata": {},
   "source": [
    "# MinIOにデータを書き込む"
   ]
  },
  {
   "cell_type": "code",
   "execution_count": 5,
   "id": "784271e2-52f0-48c4-b607-5955db27522c",
   "metadata": {},
   "outputs": [],
   "source": [
    "from pyspark.sql.functions import col, rand"
   ]
  },
  {
   "cell_type": "markdown",
   "id": "44decee1-c9fc-4a11-bbdc-ccda1d36e9e7",
   "metadata": {},
   "source": [
    "MinIOはS3互換である。エンドポイント、ID、シークレットキーを指定しながらS3プロトコルを用いて読み書きできる。\n",
    "なお、あわせて `fs.s3a.path.style.access` を有効化することで名前解決のエラーを避ける。"
   ]
  },
  {
   "cell_type": "code",
   "execution_count": 16,
   "id": "a19cbfde-a863-4ddc-aadc-7870636b5209",
   "metadata": {},
   "outputs": [],
   "source": [
    "spark._jsc.hadoopConfiguration().set('fs.s3a.endpoint','http://localhost:9000')\n",
    "spark._jsc.hadoopConfiguration().set('fs.s3a.access.key','minioadmin')\n",
    "spark._jsc.hadoopConfiguration().set('fs.s3a.secret.key','minioadmin')\n",
    "spark._jsc.hadoopConfiguration().set('fs.s3a.path.style.access','true')"
   ]
  },
  {
   "cell_type": "markdown",
   "id": "935dc88b-3175-4e58-87a3-1b857342c74b",
   "metadata": {},
   "source": [
    "ダミーデータを作る。"
   ]
  },
  {
   "cell_type": "code",
   "execution_count": 17,
   "id": "83ec1240-6a95-43ff-ae19-801b6d41be56",
   "metadata": {},
   "outputs": [
    {
     "name": "stdout",
     "output_type": "stream",
     "text": [
      "+---+\n",
      "| id|\n",
      "+---+\n",
      "|  0|\n",
      "|  1|\n",
      "|  2|\n",
      "|  3|\n",
      "|  4|\n",
      "|  5|\n",
      "|  6|\n",
      "|  7|\n",
      "|  8|\n",
      "|  9|\n",
      "+---+\n",
      "\n"
     ]
    }
   ],
   "source": [
    "df01 = spark.range(10).alias('id')\n",
    "df01.show()"
   ]
  },
  {
   "cell_type": "code",
   "execution_count": 18,
   "id": "c2ec02af-ae37-4edc-a8ff-96b4753ea3a3",
   "metadata": {},
   "outputs": [
    {
     "name": "stdout",
     "output_type": "stream",
     "text": [
      "+---+--------------------+\n",
      "| id|                rand|\n",
      "+---+--------------------+\n",
      "|  0|  0.8583754018110523|\n",
      "|  1| 0.23327449392043575|\n",
      "|  2| 0.11184375072823527|\n",
      "|  3|  0.6663237844847486|\n",
      "|  4|   0.382967832475844|\n",
      "|  5|  0.5138345675128307|\n",
      "|  6|  0.5131521151713943|\n",
      "|  7|0.016830960632880698|\n",
      "|  8|  0.4528880979467512|\n",
      "|  9|  0.9530944735613183|\n",
      "+---+--------------------+\n",
      "\n"
     ]
    }
   ],
   "source": [
    "df02 = df01.select(col('id'), rand().alias('rand'))\n",
    "df02.show()"
   ]
  },
  {
   "cell_type": "markdown",
   "id": "5c45ad20-2d61-496a-a9d7-756f06aa30c5",
   "metadata": {},
   "source": [
    "MinIOに書き込み"
   ]
  },
  {
   "cell_type": "code",
   "execution_count": 19,
   "id": "09f00289-4de6-4dd9-93d8-dcdf81490bf3",
   "metadata": {},
   "outputs": [],
   "source": [
    "output_url = 's3a://test/sample_data'"
   ]
  },
  {
   "cell_type": "code",
   "execution_count": 21,
   "id": "1a5ed434-0972-4002-9d3f-ef31092eda7b",
   "metadata": {},
   "outputs": [
    {
     "name": "stderr",
     "output_type": "stream",
     "text": [
      "                                                                                \r"
     ]
    }
   ],
   "source": [
    "df02.write.format('delta').mode('overwrite').save(output_url)"
   ]
  },
  {
   "cell_type": "code",
   "execution_count": null,
   "id": "2c452e57-216c-421b-a2f3-016e0806d956",
   "metadata": {},
   "outputs": [],
   "source": []
  }
 ],
 "metadata": {
  "kernelspec": {
   "display_name": "Python 3 (ipykernel)",
   "language": "python",
   "name": "python3"
  },
  "language_info": {
   "codemirror_mode": {
    "name": "ipython",
    "version": 3
   },
   "file_extension": ".py",
   "mimetype": "text/x-python",
   "name": "python",
   "nbconvert_exporter": "python",
   "pygments_lexer": "ipython3",
   "version": "3.7.10"
  }
 },
 "nbformat": 4,
 "nbformat_minor": 5
}
