{
 "cells": [
  {
   "cell_type": "markdown",
   "id": "491507b2-c95e-493b-8f56-c905d0ef0b28",
   "metadata": {},
   "source": [
    "# Write data to MinIO"
   ]
  },
  {
   "cell_type": "code",
   "execution_count": 1,
   "id": "784271e2-52f0-48c4-b607-5955db27522c",
   "metadata": {},
   "outputs": [],
   "source": [
    "from pyspark.sql.functions import col, rand\n",
    "from pyspark.sql import SparkSession"
   ]
  },
  {
   "cell_type": "markdown",
   "id": "44decee1-c9fc-4a11-bbdc-ccda1d36e9e7",
   "metadata": {},
   "source": [
    "MinIO is compatible with AWS S3.\n",
    "You can access MinIO using information about the endpoint, ID and secret key.\n",
    "You may also need to configure `fs.s3a.path.style.access` to avoid errors about name resolution.\n",
    "\n",
    "To configure such parameters, you can use `spark._jsc.hadoopConfiguration().set` method."
   ]
  },
  {
   "cell_type": "code",
   "execution_count": 2,
   "id": "a19cbfde-a863-4ddc-aadc-7870636b5209",
   "metadata": {},
   "outputs": [],
   "source": [
    "spark._jsc.hadoopConfiguration().set('fs.s3a.endpoint','http://localhost:9000')\n",
    "spark._jsc.hadoopConfiguration().set('fs.s3a.access.key','minioadmin')\n",
    "spark._jsc.hadoopConfiguration().set('fs.s3a.secret.key','minioadmin')\n",
    "spark._jsc.hadoopConfiguration().set('fs.s3a.path.style.access','true')"
   ]
  },
  {
   "cell_type": "markdown",
   "id": "935dc88b-3175-4e58-87a3-1b857342c74b",
   "metadata": {},
   "source": [
    "Create a dataframe as a sample data."
   ]
  },
  {
   "cell_type": "code",
   "execution_count": 3,
   "id": "83ec1240-6a95-43ff-ae19-801b6d41be56",
   "metadata": {},
   "outputs": [
    {
     "name": "stdout",
     "output_type": "stream",
     "text": [
      "+---+\n",
      "| id|\n",
      "+---+\n",
      "|  0|\n",
      "|  1|\n",
      "|  2|\n",
      "|  3|\n",
      "|  4|\n",
      "|  5|\n",
      "|  6|\n",
      "|  7|\n",
      "|  8|\n",
      "|  9|\n",
      "+---+\n",
      "\n"
     ]
    },
    {
     "name": "stderr",
     "output_type": "stream",
     "text": [
      "                                                                                \r"
     ]
    }
   ],
   "source": [
    "df01 = spark.range(10).alias('id')\n",
    "df01.show()"
   ]
  },
  {
   "cell_type": "code",
   "execution_count": 4,
   "id": "c2ec02af-ae37-4edc-a8ff-96b4753ea3a3",
   "metadata": {},
   "outputs": [
    {
     "name": "stdout",
     "output_type": "stream",
     "text": [
      "+---+--------------------+\n",
      "| id|                rand|\n",
      "+---+--------------------+\n",
      "|  0|  0.9725951347207548|\n",
      "|  1|  0.7695043697693632|\n",
      "|  2|  0.7600017730566363|\n",
      "|  3| 0.14849636759254248|\n",
      "|  4|  0.8211788258358126|\n",
      "|  5|0.060867592749805355|\n",
      "|  6|  0.4505864844597326|\n",
      "|  7|  0.7621800285390116|\n",
      "|  8|   0.114679526797547|\n",
      "|  9| 0.35505161846699496|\n",
      "+---+--------------------+\n",
      "\n"
     ]
    }
   ],
   "source": [
    "df02 = df01.select(col('id'), rand().alias('rand'))\n",
    "df02.show()"
   ]
  },
  {
   "cell_type": "markdown",
   "id": "5c45ad20-2d61-496a-a9d7-756f06aa30c5",
   "metadata": {},
   "source": [
    "Write sample data to MinIO."
   ]
  },
  {
   "cell_type": "code",
   "execution_count": 5,
   "id": "09f00289-4de6-4dd9-93d8-dcdf81490bf3",
   "metadata": {},
   "outputs": [],
   "source": [
    "output_url = 's3a://test/sample_data'"
   ]
  },
  {
   "cell_type": "code",
   "execution_count": 6,
   "id": "1a5ed434-0972-4002-9d3f-ef31092eda7b",
   "metadata": {},
   "outputs": [
    {
     "name": "stderr",
     "output_type": "stream",
     "text": [
      "21/11/02 00:10:18 WARN MetricsConfig: Cannot locate configuration: tried hadoop-metrics2-s3a-file-system.properties,hadoop-metrics2.properties\n",
      "                                                                                \r"
     ]
    }
   ],
   "source": [
    "df02.write.format('delta').mode('overwrite').save(output_url)"
   ]
  },
  {
   "cell_type": "code",
   "execution_count": null,
   "id": "2c452e57-216c-421b-a2f3-016e0806d956",
   "metadata": {},
   "outputs": [],
   "source": []
  }
 ],
 "metadata": {
  "interpreter": {
   "hash": "b05a7d207bcb95884f71d74cebacc1a0cfe682c082cd934f946436f32302083b"
  },
  "kernelspec": {
   "display_name": "Python 3 (ipykernel)",
   "language": "python",
   "name": "python3"
  },
  "language_info": {
   "codemirror_mode": {
    "name": "ipython",
    "version": 3
   },
   "file_extension": ".py",
   "mimetype": "text/x-python",
   "name": "python",
   "nbconvert_exporter": "python",
   "pygments_lexer": "ipython3",
   "version": "3.7.10"
  }
 },
 "nbformat": 4,
 "nbformat_minor": 5
}
