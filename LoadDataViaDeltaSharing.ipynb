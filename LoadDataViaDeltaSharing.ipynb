{
 "cells": [
  {
   "cell_type": "markdown",
   "id": "d64b5f67-4be7-4bbf-87e5-072df4e46292",
   "metadata": {},
   "source": [
    "# Load data via Delta Sharing"
   ]
  },
  {
   "cell_type": "code",
   "execution_count": 1,
   "id": "8ed64732-d827-46c9-92b9-9780184910d1",
   "metadata": {},
   "outputs": [],
   "source": [
    "import delta_sharing"
   ]
  },
  {
   "cell_type": "markdown",
   "id": "25d00479-9334-45cd-8649-2cfa112a50e3",
   "metadata": {},
   "source": [
    "Check table list of Delta Sharig"
   ]
  },
  {
   "cell_type": "code",
   "execution_count": 2,
   "id": "2f5c06a7-6d46-44e8-b425-e2900a13d1d3",
   "metadata": {},
   "outputs": [],
   "source": [
    "profile = 'conf/minio.share'"
   ]
  },
  {
   "cell_type": "code",
   "execution_count": 3,
   "id": "7301d347-2555-4afe-808c-92cea7a5817e",
   "metadata": {},
   "outputs": [],
   "source": [
    "client = delta_sharing.SharingClient(profile)"
   ]
  },
  {
   "cell_type": "code",
   "execution_count": 4,
   "id": "3b46bc8f-f619-404f-bd50-9e401fcfc176",
   "metadata": {},
   "outputs": [
    {
     "data": {
      "text/plain": [
       "[Table(name='table', share='share', schema='schema')]"
      ]
     },
     "execution_count": 4,
     "metadata": {},
     "output_type": "execute_result"
    }
   ],
   "source": [
    "client.list_all_tables()"
   ]
  },
  {
   "cell_type": "markdown",
   "id": "cf8df6f7-0883-4afa-8ab5-cafabef9dcd8",
   "metadata": {},
   "source": [
    "Read data as a Spark's DataFrame."
   ]
  },
  {
   "cell_type": "code",
   "execution_count": 5,
   "id": "8d12b705-ef6e-4fb4-a34d-147aea72433c",
   "metadata": {},
   "outputs": [],
   "source": [
    "table_url = profile + \"#share.schema.table\""
   ]
  },
  {
   "cell_type": "code",
   "execution_count": 6,
   "id": "d3d6d05f-0bb5-4342-9d21-796be431c748",
   "metadata": {},
   "outputs": [
    {
     "name": "stderr",
     "output_type": "stream",
     "text": [
      "[Stage 0:>                                                          (0 + 1) / 1]\r"
     ]
    },
    {
     "name": "stdout",
     "output_type": "stream",
     "text": [
      "+---+--------------------+\n",
      "| id|                rand|\n",
      "+---+--------------------+\n",
      "|  0|  0.9725951347207548|\n",
      "|  1|  0.7695043697693632|\n",
      "|  2|  0.7600017730566363|\n",
      "|  3| 0.14849636759254248|\n",
      "|  4|  0.8211788258358126|\n",
      "|  5|0.060867592749805355|\n",
      "|  6|  0.4505864844597326|\n",
      "|  7|  0.7621800285390116|\n",
      "|  8|   0.114679526797547|\n",
      "|  9| 0.35505161846699496|\n",
      "+---+--------------------+\n",
      "\n"
     ]
    },
    {
     "name": "stderr",
     "output_type": "stream",
     "text": [
      "                                                                                \r"
     ]
    }
   ],
   "source": [
    "df = delta_sharing.load_as_spark(table_url)\n",
    "df.show()"
   ]
  },
  {
   "cell_type": "code",
   "execution_count": null,
   "id": "49c181da-258e-4e6a-9cfc-57a62af52d16",
   "metadata": {},
   "outputs": [],
   "source": []
  }
 ],
 "metadata": {
  "kernelspec": {
   "display_name": "Python 3 (ipykernel)",
   "language": "python",
   "name": "python3"
  },
  "language_info": {
   "codemirror_mode": {
    "name": "ipython",
    "version": 3
   },
   "file_extension": ".py",
   "mimetype": "text/x-python",
   "name": "python",
   "nbconvert_exporter": "python",
   "pygments_lexer": "ipython3",
   "version": "3.7.10"
  }
 },
 "nbformat": 4,
 "nbformat_minor": 5
}
